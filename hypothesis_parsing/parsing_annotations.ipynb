{
 "cells": [
  {
   "cell_type": "code",
   "execution_count": 15,
   "metadata": {},
   "outputs": [],
   "source": []
  },
  {
   "cell_type": "code",
   "execution_count": 16,
   "metadata": {},
   "outputs": [
    {
     "name": "stdout",
     "output_type": "stream",
     "text": [
      "offset: 200\n",
      "offset: 400\n",
      "offset: 600\n",
      "offset: 800\n",
      "offset: 1000\n",
      "offset: 1200\n",
      "offset: 1400\n",
      "offset: 1600\n",
      "offset: 1800\n",
      "offset: 2000\n",
      "offset: 2200\n"
     ]
    }
   ],
   "source": []
  },
  {
   "cell_type": "code",
   "execution_count": 62,
   "metadata": {},
   "outputs": [],
   "source": [
    "wikidata_ids = df[\"text\"]\n",
    "\n",
    "wikidata_ids = wikidata_ids[[\"entity/Q\" in value for value in wikidata_ids]]\n",
    "wikidata_ids = [value.replace(\"\\n\", \"\") for value in wikidata_ids]\n"
   ]
  },
  {
   "cell_type": "code",
   "execution_count": 63,
   "metadata": {},
   "outputs": [
    {
     "data": {
      "text/plain": [
       "1132"
      ]
     },
     "execution_count": 63,
     "metadata": {},
     "output_type": "execute_result"
    }
   ],
   "source": [
    "len(set(wikidata_ids))"
   ]
  },
  {
   "cell_type": "code",
   "execution_count": 64,
   "metadata": {},
   "outputs": [],
   "source": []
  },
  {
   "cell_type": "code",
   "execution_count": 25,
   "metadata": {},
   "outputs": [
    {
     "data": {
      "text/plain": [
       "<generator object get_chunks at 0x7f5896bd9258>"
      ]
     },
     "execution_count": 25,
     "metadata": {},
     "output_type": "execute_result"
    }
   ],
   "source": [
    "qid_values_list"
   ]
  },
  {
   "cell_type": "code",
   "execution_count": 68,
   "metadata": {},
   "outputs": [
    {
     "data": {
      "text/plain": [
       "332"
      ]
     },
     "execution_count": 68,
     "metadata": {},
     "output_type": "execute_result"
    }
   ],
   "source": [
    "len(qid_values)"
   ]
  },
  {
   "cell_type": "code",
   "execution_count": 76,
   "metadata": {},
   "outputs": [
    {
     "name": "stdout",
     "output_type": "stream",
     "text": [
      "457\n",
      "905\n",
      "1288\n"
     ]
    }
   ],
   "source": [
    "\n",
    "qid_values = [re.sub(\".*Q\",\"wd:Q\", qid) for qid in wikidata_unique_ids]\n",
    "\n",
    "       \n",
    "qid_values_list = get_chunks(qid_values, 400)\n",
    "\n",
    "\n",
    "list_of = []\n",
    "i = 0\n",
    "for qid_values in qid_values_list:\n",
    "        i+=1\n",
    "        query = \"\"\"\n",
    "\n",
    "        SELECT ?item ?itemLabel ?superclass ?superclassLabel ?type ?typeLabel\n",
    "        WHERE{\n",
    "         VALUES ?item {\"\"\" + \" \".join(qid_values) +\"\"\"}\n",
    "        OPTIONAL{?item wdt:P31 ?type.}\n",
    "         SERVICE wikibase:label { bd:serviceParam wikibase:language \"[AUTO_LANGUAGE],en\". }\n",
    "\n",
    "        }\n",
    "        \"\"\"\n",
    "        if i == 1:\n",
    "            expanded_qid_type_table = wikidata2df.wikidata2df(query)\n",
    "        else:\n",
    "            result_now =  wikidata2df.wikidata2df(query)\n",
    "            expanded_qid_type_table = expanded_qid_type_table.append(result_now)\n",
    "            \n",
    "        print(len(expanded_qid_type_table))"
   ]
  },
  {
   "cell_type": "code",
   "execution_count": 78,
   "metadata": {},
   "outputs": [],
   "source": [
    "expanded_qid_type_table[\"article_url\"] = \"https://europepmc.org/article/MED/29206104\" "
   ]
  },
  {
   "cell_type": "code",
   "execution_count": 79,
   "metadata": {},
   "outputs": [
    {
     "data": {
      "text/html": [
       "<div>\n",
       "<style scoped>\n",
       "    .dataframe tbody tr th:only-of-type {\n",
       "        vertical-align: middle;\n",
       "    }\n",
       "\n",
       "    .dataframe tbody tr th {\n",
       "        vertical-align: top;\n",
       "    }\n",
       "\n",
       "    .dataframe thead th {\n",
       "        text-align: right;\n",
       "    }\n",
       "</style>\n",
       "<table border=\"1\" class=\"dataframe\">\n",
       "  <thead>\n",
       "    <tr style=\"text-align: right;\">\n",
       "      <th></th>\n",
       "      <th>item</th>\n",
       "      <th>typeLabel</th>\n",
       "      <th>type</th>\n",
       "      <th>itemLabel</th>\n",
       "      <th>article_url</th>\n",
       "    </tr>\n",
       "  </thead>\n",
       "  <tbody>\n",
       "    <tr>\n",
       "      <th>0</th>\n",
       "      <td>Q3</td>\n",
       "      <td>property</td>\n",
       "      <td>Q937228</td>\n",
       "      <td>life</td>\n",
       "      <td>https://europepmc.org/article/MED/29206104</td>\n",
       "    </tr>\n",
       "    <tr>\n",
       "      <th>1</th>\n",
       "      <td>Q4</td>\n",
       "      <td>biological process</td>\n",
       "      <td>Q2996394</td>\n",
       "      <td>death</td>\n",
       "      <td>https://europepmc.org/article/MED/29206104</td>\n",
       "    </tr>\n",
       "    <tr>\n",
       "      <th>2</th>\n",
       "      <td>Q60</td>\n",
       "      <td>city</td>\n",
       "      <td>Q515</td>\n",
       "      <td>New York City</td>\n",
       "      <td>https://europepmc.org/article/MED/29206104</td>\n",
       "    </tr>\n",
       "    <tr>\n",
       "      <th>3</th>\n",
       "      <td>Q60</td>\n",
       "      <td>global city</td>\n",
       "      <td>Q208511</td>\n",
       "      <td>New York City</td>\n",
       "      <td>https://europepmc.org/article/MED/29206104</td>\n",
       "    </tr>\n",
       "    <tr>\n",
       "      <th>4</th>\n",
       "      <td>Q60</td>\n",
       "      <td>city of the United States</td>\n",
       "      <td>Q1093829</td>\n",
       "      <td>New York City</td>\n",
       "      <td>https://europepmc.org/article/MED/29206104</td>\n",
       "    </tr>\n",
       "    <tr>\n",
       "      <th>...</th>\n",
       "      <td>...</td>\n",
       "      <td>...</td>\n",
       "      <td>...</td>\n",
       "      <td>...</td>\n",
       "      <td>...</td>\n",
       "    </tr>\n",
       "    <tr>\n",
       "      <th>378</th>\n",
       "      <td>Q106439843</td>\n",
       "      <td>None</td>\n",
       "      <td>None</td>\n",
       "      <td>adult tissue</td>\n",
       "      <td>https://europepmc.org/article/MED/29206104</td>\n",
       "    </tr>\n",
       "    <tr>\n",
       "      <th>379</th>\n",
       "      <td>Q106466573</td>\n",
       "      <td>None</td>\n",
       "      <td>None</td>\n",
       "      <td>automated DNA sequencing machine</td>\n",
       "      <td>https://europepmc.org/article/MED/29206104</td>\n",
       "    </tr>\n",
       "    <tr>\n",
       "      <th>380</th>\n",
       "      <td>Q106466587</td>\n",
       "      <td>None</td>\n",
       "      <td>None</td>\n",
       "      <td>large-insert DNA cloning</td>\n",
       "      <td>https://europepmc.org/article/MED/29206104</td>\n",
       "    </tr>\n",
       "    <tr>\n",
       "      <th>381</th>\n",
       "      <td>Q106501661</td>\n",
       "      <td>None</td>\n",
       "      <td>None</td>\n",
       "      <td>intermediate milestone</td>\n",
       "      <td>https://europepmc.org/article/MED/29206104</td>\n",
       "    </tr>\n",
       "    <tr>\n",
       "      <th>382</th>\n",
       "      <td>Q106501997</td>\n",
       "      <td>None</td>\n",
       "      <td>None</td>\n",
       "      <td>biological organization</td>\n",
       "      <td>https://europepmc.org/article/MED/29206104</td>\n",
       "    </tr>\n",
       "  </tbody>\n",
       "</table>\n",
       "<p>1288 rows × 5 columns</p>\n",
       "</div>"
      ],
      "text/plain": [
       "           item                  typeLabel      type  \\\n",
       "0            Q3                   property   Q937228   \n",
       "1            Q4         biological process  Q2996394   \n",
       "2           Q60                       city      Q515   \n",
       "3           Q60                global city   Q208511   \n",
       "4           Q60  city of the United States  Q1093829   \n",
       "..          ...                        ...       ...   \n",
       "378  Q106439843                       None      None   \n",
       "379  Q106466573                       None      None   \n",
       "380  Q106466587                       None      None   \n",
       "381  Q106501661                       None      None   \n",
       "382  Q106501997                       None      None   \n",
       "\n",
       "                            itemLabel  \\\n",
       "0                                life   \n",
       "1                               death   \n",
       "2                       New York City   \n",
       "3                       New York City   \n",
       "4                       New York City   \n",
       "..                                ...   \n",
       "378                      adult tissue   \n",
       "379  automated DNA sequencing machine   \n",
       "380          large-insert DNA cloning   \n",
       "381            intermediate milestone   \n",
       "382           biological organization   \n",
       "\n",
       "                                    article_url  \n",
       "0    https://europepmc.org/article/MED/29206104  \n",
       "1    https://europepmc.org/article/MED/29206104  \n",
       "2    https://europepmc.org/article/MED/29206104  \n",
       "3    https://europepmc.org/article/MED/29206104  \n",
       "4    https://europepmc.org/article/MED/29206104  \n",
       "..                                          ...  \n",
       "378  https://europepmc.org/article/MED/29206104  \n",
       "379  https://europepmc.org/article/MED/29206104  \n",
       "380  https://europepmc.org/article/MED/29206104  \n",
       "381  https://europepmc.org/article/MED/29206104  \n",
       "382  https://europepmc.org/article/MED/29206104  \n",
       "\n",
       "[1288 rows x 5 columns]"
      ]
     },
     "execution_count": 79,
     "metadata": {},
     "output_type": "execute_result"
    }
   ],
   "source": [
    "expanded_qid_type_table"
   ]
  },
  {
   "cell_type": "code",
   "execution_count": 83,
   "metadata": {},
   "outputs": [
    {
     "name": "stdout",
     "output_type": "stream",
     "text": [
      "Defaulting to user installation because normal site-packages is not writeable\n",
      "Collecting google.colab\n",
      "  Using cached google_colab-1.0.0-py2.py3-none-any.whl\n",
      "Collecting google-auth~=1.4.0\n",
      "  Using cached google_auth-1.4.2-py2.py3-none-any.whl (64 kB)\n",
      "Collecting ipykernel~=4.6.0\n",
      "  Using cached ipykernel-4.6.1-py3-none-any.whl (104 kB)\n",
      "Collecting pandas~=0.24.0\n",
      "  Using cached pandas-0.24.2-cp36-cp36m-manylinux1_x86_64.whl (10.1 MB)\n",
      "Requirement already satisfied: tornado~=4.5.0 in /home/lubianat/.local/lib/python3.6/site-packages (from google.colab) (4.5.3)\n",
      "Collecting notebook~=5.2.0\n",
      "  Using cached notebook-5.2.2-py2.py3-none-any.whl (8.0 MB)\n",
      "Collecting six~=1.12.0\n",
      "  Using cached six-1.12.0-py2.py3-none-any.whl (10 kB)\n",
      "Collecting portpicker~=1.2.0\n",
      "  Using cached portpicker-1.2.0-py3-none-any.whl\n",
      "Collecting requests~=2.21.0\n",
      "  Using cached requests-2.21.0-py2.py3-none-any.whl (57 kB)\n",
      "Requirement already satisfied: ipython~=5.5.0 in /home/lubianat/.local/lib/python3.6/site-packages (from google.colab) (5.5.0)\n",
      "Requirement already satisfied: cachetools>=2.0.0 in /home/lubianat/.local/lib/python3.6/site-packages (from google-auth~=1.4.0->google.colab) (4.0.0)\n",
      "Requirement already satisfied: rsa>=3.1.4 in /home/lubianat/.local/lib/python3.6/site-packages (from google-auth~=1.4.0->google.colab) (4.0)\n",
      "Requirement already satisfied: pyasn1-modules>=0.2.1 in /home/lubianat/.local/lib/python3.6/site-packages (from google-auth~=1.4.0->google.colab) (0.2.8)\n",
      "Requirement already satisfied: traitlets>=4.1.0 in /home/lubianat/.local/lib/python3.6/site-packages (from ipykernel~=4.6.0->google.colab) (4.3.3)\n",
      "Requirement already satisfied: jupyter-client in /home/lubianat/.local/lib/python3.6/site-packages (from ipykernel~=4.6.0->google.colab) (6.1.13)\n",
      "Requirement already satisfied: decorator in /home/lubianat/.local/lib/python3.6/site-packages (from ipython~=5.5.0->google.colab) (4.4.2)\n",
      "Requirement already satisfied: pickleshare in /home/lubianat/.local/lib/python3.6/site-packages (from ipython~=5.5.0->google.colab) (0.7.5)\n",
      "Requirement already satisfied: pygments in /home/lubianat/.local/lib/python3.6/site-packages (from ipython~=5.5.0->google.colab) (2.6.1)\n",
      "Collecting prompt-toolkit<2.0.0,>=1.0.4\n",
      "  Using cached prompt_toolkit-1.0.18-py3-none-any.whl (245 kB)\n",
      "Requirement already satisfied: simplegeneric>0.8 in /usr/lib/python3/dist-packages (from ipython~=5.5.0->google.colab) (0.8.1)\n",
      "Requirement already satisfied: pexpect in /home/lubianat/.local/lib/python3.6/site-packages (from ipython~=5.5.0->google.colab) (4.8.0)\n",
      "Requirement already satisfied: setuptools>=18.5 in /home/lubianat/.local/lib/python3.6/site-packages (from ipython~=5.5.0->google.colab) (46.1.3)\n",
      "Requirement already satisfied: jupyter-core in /home/lubianat/.local/lib/python3.6/site-packages (from notebook~=5.2.0->google.colab) (4.6.3)\n",
      "Requirement already satisfied: nbconvert in /home/lubianat/.local/lib/python3.6/site-packages (from notebook~=5.2.0->google.colab) (6.0.7)\n",
      "Requirement already satisfied: nbformat in /home/lubianat/.local/lib/python3.6/site-packages (from notebook~=5.2.0->google.colab) (5.0.6)\n",
      "Requirement already satisfied: ipython-genutils in /home/lubianat/.local/lib/python3.6/site-packages (from notebook~=5.2.0->google.colab) (0.2.0)\n",
      "Requirement already satisfied: terminado>=0.3.3 in /home/lubianat/.local/lib/python3.6/site-packages (from notebook~=5.2.0->google.colab) (0.8.3)\n",
      "Requirement already satisfied: jinja2 in /home/lubianat/.local/lib/python3.6/site-packages (from notebook~=5.2.0->google.colab) (3.0.1)\n",
      "Requirement already satisfied: python-dateutil>=2.5.0 in /home/lubianat/.local/lib/python3.6/site-packages (from pandas~=0.24.0->google.colab) (2.8.1)\n",
      "Requirement already satisfied: pytz>=2011k in /home/lubianat/.local/lib/python3.6/site-packages (from pandas~=0.24.0->google.colab) (2021.1)\n",
      "Requirement already satisfied: numpy>=1.12.0 in /home/lubianat/.local/lib/python3.6/site-packages (from pandas~=0.24.0->google.colab) (1.19.5)\n",
      "Requirement already satisfied: wcwidth in /home/lubianat/.local/lib/python3.6/site-packages (from prompt-toolkit<2.0.0,>=1.0.4->ipython~=5.5.0->google.colab) (0.2.5)\n",
      "Requirement already satisfied: pyasn1<0.5.0,>=0.4.6 in /home/lubianat/.local/lib/python3.6/site-packages (from pyasn1-modules>=0.2.1->google-auth~=1.4.0->google.colab) (0.4.8)\n",
      "Collecting chardet<3.1.0,>=3.0.2\n",
      "  Using cached chardet-3.0.4-py2.py3-none-any.whl (133 kB)\n",
      "Requirement already satisfied: certifi>=2017.4.17 in /home/lubianat/.local/lib/python3.6/site-packages (from requests~=2.21.0->google.colab) (2020.12.5)\n",
      "Collecting urllib3<1.25,>=1.21.1\n",
      "  Using cached urllib3-1.24.3-py2.py3-none-any.whl (118 kB)\n",
      "Collecting idna<2.9,>=2.5\n",
      "  Using cached idna-2.8-py2.py3-none-any.whl (58 kB)\n",
      "Requirement already satisfied: ptyprocess in /home/lubianat/.local/lib/python3.6/site-packages (from terminado>=0.3.3->notebook~=5.2.0->google.colab) (0.6.0)\n",
      "Requirement already satisfied: MarkupSafe>=2.0 in /home/lubianat/.local/lib/python3.6/site-packages (from jinja2->notebook~=5.2.0->google.colab) (2.0.1)\n",
      "Requirement already satisfied: pyzmq>=13 in /home/lubianat/.local/lib/python3.6/site-packages (from jupyter-client->ipykernel~=4.6.0->google.colab) (19.0.0)\n",
      "Requirement already satisfied: nest-asyncio>=1.5 in /home/lubianat/.local/lib/python3.6/site-packages (from jupyter-client->ipykernel~=4.6.0->google.colab) (1.5.1)\n",
      "Requirement already satisfied: jupyterlab-pygments in /home/lubianat/.local/lib/python3.6/site-packages (from nbconvert->notebook~=5.2.0->google.colab) (0.1.2)\n",
      "Requirement already satisfied: pandocfilters>=1.4.1 in /home/lubianat/.local/lib/python3.6/site-packages (from nbconvert->notebook~=5.2.0->google.colab) (1.4.2)\n",
      "Requirement already satisfied: bleach in /home/lubianat/.local/lib/python3.6/site-packages (from nbconvert->notebook~=5.2.0->google.colab) (3.1.5)\n",
      "Requirement already satisfied: testpath in /home/lubianat/.local/lib/python3.6/site-packages (from nbconvert->notebook~=5.2.0->google.colab) (0.4.4)\n",
      "Requirement already satisfied: nbclient<0.6.0,>=0.5.0 in /home/lubianat/.local/lib/python3.6/site-packages (from nbconvert->notebook~=5.2.0->google.colab) (0.5.3)\n",
      "Requirement already satisfied: entrypoints>=0.2.2 in /home/lubianat/.local/lib/python3.6/site-packages (from nbconvert->notebook~=5.2.0->google.colab) (0.3)\n",
      "Requirement already satisfied: defusedxml in /home/lubianat/.local/lib/python3.6/site-packages (from nbconvert->notebook~=5.2.0->google.colab) (0.6.0)\n",
      "Requirement already satisfied: mistune<2,>=0.8.1 in /home/lubianat/.local/lib/python3.6/site-packages (from nbconvert->notebook~=5.2.0->google.colab) (0.8.4)\n",
      "Requirement already satisfied: async-generator in /home/lubianat/.local/lib/python3.6/site-packages (from nbclient<0.6.0,>=0.5.0->nbconvert->notebook~=5.2.0->google.colab) (1.10)\n",
      "Requirement already satisfied: jsonschema!=2.5.0,>=2.4 in /home/lubianat/.local/lib/python3.6/site-packages (from nbformat->notebook~=5.2.0->google.colab) (3.2.0)\n",
      "Requirement already satisfied: attrs>=17.4.0 in /home/lubianat/.local/lib/python3.6/site-packages (from jsonschema!=2.5.0,>=2.4->nbformat->notebook~=5.2.0->google.colab) (19.3.0)\n",
      "Requirement already satisfied: pyrsistent>=0.14.0 in /home/lubianat/.local/lib/python3.6/site-packages (from jsonschema!=2.5.0,>=2.4->nbformat->notebook~=5.2.0->google.colab) (0.16.0)\n",
      "Requirement already satisfied: importlib-metadata in /home/lubianat/.local/lib/python3.6/site-packages (from jsonschema!=2.5.0,>=2.4->nbformat->notebook~=5.2.0->google.colab) (1.5.0)\n",
      "Requirement already satisfied: webencodings in /home/lubianat/.local/lib/python3.6/site-packages (from bleach->nbconvert->notebook~=5.2.0->google.colab) (0.5.1)\n",
      "Requirement already satisfied: packaging in /home/lubianat/.local/lib/python3.6/site-packages (from bleach->nbconvert->notebook~=5.2.0->google.colab) (20.4)\n",
      "Requirement already satisfied: zipp>=0.5 in /home/lubianat/.local/lib/python3.6/site-packages (from importlib-metadata->jsonschema!=2.5.0,>=2.4->nbformat->notebook~=5.2.0->google.colab) (3.1.0)\n",
      "Requirement already satisfied: pyparsing>=2.0.2 in /home/lubianat/.local/lib/python3.6/site-packages (from packaging->bleach->nbconvert->notebook~=5.2.0->google.colab) (2.4.7)\n",
      "Installing collected packages: six, prompt-toolkit, urllib3, ipykernel, idna, chardet, requests, portpicker, pandas, notebook, google-auth, google.colab\n",
      "  Attempting uninstall: six\n",
      "    Found existing installation: six 1.14.0\n",
      "    Uninstalling six-1.14.0:\n",
      "      Successfully uninstalled six-1.14.0\n",
      "  Attempting uninstall: prompt-toolkit\n",
      "    Found existing installation: prompt-toolkit 3.0.4\n",
      "    Uninstalling prompt-toolkit-3.0.4:\n",
      "      Successfully uninstalled prompt-toolkit-3.0.4\n",
      "  Attempting uninstall: urllib3\n",
      "    Found existing installation: urllib3 1.25.8\n",
      "    Uninstalling urllib3-1.25.8:\n",
      "      Successfully uninstalled urllib3-1.25.8\n",
      "  Attempting uninstall: ipykernel\n",
      "    Found existing installation: ipykernel 5.1.4\n",
      "    Uninstalling ipykernel-5.1.4:\n",
      "      Successfully uninstalled ipykernel-5.1.4\n",
      "  Attempting uninstall: idna\n",
      "    Found existing installation: idna 2.9\n",
      "    Uninstalling idna-2.9:\n",
      "      Successfully uninstalled idna-2.9\n",
      "  Attempting uninstall: chardet\n",
      "    Found existing installation: chardet 4.0.0\n",
      "    Uninstalling chardet-4.0.0:\n",
      "      Successfully uninstalled chardet-4.0.0\n",
      "  Attempting uninstall: requests\n",
      "    Found existing installation: requests 2.25.1\n",
      "    Uninstalling requests-2.25.1:\n",
      "      Successfully uninstalled requests-2.25.1\n",
      "  Attempting uninstall: portpicker\n",
      "    Found existing installation: portpicker 1.3.1\n",
      "    Uninstalling portpicker-1.3.1:\n",
      "      Successfully uninstalled portpicker-1.3.1\n",
      "  Attempting uninstall: pandas\n",
      "    Found existing installation: pandas 1.1.5\n",
      "    Uninstalling pandas-1.1.5:\n",
      "      Successfully uninstalled pandas-1.1.5\n",
      "  Attempting uninstall: notebook\n",
      "    Found existing installation: notebook 6.0.3\n",
      "    Uninstalling notebook-6.0.3:\n",
      "      Successfully uninstalled notebook-6.0.3\n",
      "  Attempting uninstall: google-auth\n",
      "    Found existing installation: google-auth 1.21.1\n",
      "    Uninstalling google-auth-1.21.1:\n",
      "      Successfully uninstalled google-auth-1.21.1\n",
      "\u001b[31mERROR: pip's dependency resolver does not currently take into account all the packages that are installed. This behaviour is the source of the following dependency conflicts.\n",
      "tox 3.14.0 requires importlib-metadata<1,>=0.12; python_version < \"3.8\", but you have importlib-metadata 1.5.0 which is incompatible.\n",
      "tabula-py 2.1.0 requires pandas>=0.25.3, but you have pandas 0.24.2 which is incompatible.\n",
      "pydrive2 1.6.1 requires six>=1.13.0, but you have six 1.12.0 which is incompatible.\n",
      "plotnine 0.7.0 requires pandas>=1.0.3, but you have pandas 0.24.2 which is incompatible.\n",
      "ontobio 1.17.2 requires click==7.0, but you have click 7.1.2 which is incompatible.\n",
      "ontobio 1.17.2 requires networkx==2.2, but you have networkx 2.4 which is incompatible.\n",
      "mordecai 2.0.3 requires spacy<2.1.0,>=2.0.3, but you have spacy 2.3.2 which is incompatible.\n",
      "mizani 0.7.1 requires pandas>=1.0.0, but you have pandas 0.24.2 which is incompatible.\n",
      "jupyterlab 3.0.12 requires tornado>=6.1.0, but you have tornado 4.5.3 which is incompatible.\n",
      "jupyterhub 1.3.0 requires tornado>=5.1, but you have tornado 4.5.3 which is incompatible.\n",
      "jupyter-server 1.5.1 requires tornado>=6.1.0, but you have tornado 4.5.3 which is incompatible.\n",
      "jupyter-console 6.1.0 requires prompt-toolkit!=3.0.0,!=3.0.1,<3.1.0,>=2.0.0, but you have prompt-toolkit 1.0.18 which is incompatible.\n",
      "google-cloud-storage 1.26.0 requires google-auth<2.0dev,>=1.11.0, but you have google-auth 1.4.2 which is incompatible.\n",
      "google-api-python-client 2.0.2 requires google-auth<2dev,>=1.16.0, but you have google-auth 1.4.2 which is incompatible.\n",
      "google-api-python-client 2.0.2 requires six<2dev,>=1.13.0, but you have six 1.12.0 which is incompatible.\n",
      "google-api-core 1.22.2 requires google-auth<2.0dev,>=1.21.1, but you have google-auth 1.4.2 which is incompatible.\n",
      "gooey 1.0.7 requires pygtrie>=2.3.3, but you have pygtrie 2.3.2 which is incompatible.\n",
      "dvc 1.11.16 requires requests>=2.22.0, but you have requests 2.21.0 which is incompatible.\n",
      "cookiecutter 1.7.2 requires Jinja2<3.0.0, but you have jinja2 3.0.1 which is incompatible.\n",
      "cookiecutter 1.7.2 requires MarkupSafe<2.0.0, but you have markupsafe 2.0.1 which is incompatible.\n",
      "cookiecutter 1.7.2 requires requests>=2.23.0, but you have requests 2.21.0 which is incompatible.\n",
      "botocore 1.15.31 requires docutils<0.16,>=0.10, but you have docutils 0.16 which is incompatible.\n",
      "anndata 0.7.4 requires pandas>=1.0, but you have pandas 0.24.2 which is incompatible.\u001b[0m\n",
      "Successfully installed chardet-3.0.4 google-auth-1.4.2 google.colab idna-2.8 ipykernel-4.6.1 notebook-5.2.2 pandas-1.0.3 portpicker-1.2.0 prompt-toolkit-1.0.18 requests-2.23.0 six-1.12.0 urllib3-1.24.3\n",
      "\u001b[33mWARNING: You are using pip version 21.0.1; however, version 21.1.2 is available.\n",
      "You should consider upgrading via the '/usr/bin/python3 -m pip install --upgrade pip' command.\u001b[0m\n"
     ]
    },
    {
     "name": "stderr",
     "output_type": "stream",
     "text": [
      "/home/lubianat/.local/lib/python3.6/site-packages/IPython/utils/traitlets.py:5: UserWarning: IPython.utils.traitlets has moved to a top-level traitlets package.\n",
      "  warn(\"IPython.utils.traitlets has moved to a top-level traitlets package.\")\n"
     ]
    },
    {
     "data": {},
     "metadata": {
      "outputarea": {
       "add_tags": [
        "8a99adf8-8786-4ee0-956c-5aba8987cae0"
       ],
       "nodisplay": true,
       "remove_tags": []
      }
     },
     "output_type": "display_data"
    },
    {
     "data": {},
     "metadata": {
      "outputarea": {
       "add_tags": [],
       "nodisplay": true,
       "remove_tags": [
        "8a99adf8-8786-4ee0-956c-5aba8987cae0"
       ]
      }
     },
     "output_type": "display_data"
    },
    {
     "ename": "FileNotFoundError",
     "evalue": "[Errno 2] No such file or directory: 'gcloud': 'gcloud'",
     "output_type": "error",
     "traceback": [
      "\u001b[0;31m---------------------------------------------------------------------------\u001b[0m",
      "\u001b[0;31mFileNotFoundError\u001b[0m                         Traceback (most recent call last)",
      "\u001b[0;32m<ipython-input-83-c6783ea1e72c>\u001b[0m in \u001b[0;36m<module>\u001b[0;34m\u001b[0m\n\u001b[1;32m      3\u001b[0m \u001b[0mget_ipython\u001b[0m\u001b[0;34m(\u001b[0m\u001b[0;34m)\u001b[0m\u001b[0;34m.\u001b[0m\u001b[0msystem\u001b[0m\u001b[0;34m(\u001b[0m\u001b[0;34m'pip3 install google.colab'\u001b[0m\u001b[0;34m)\u001b[0m\u001b[0;34m\u001b[0m\u001b[0;34m\u001b[0m\u001b[0m\n\u001b[1;32m      4\u001b[0m \u001b[0;32mfrom\u001b[0m \u001b[0mgoogle\u001b[0m\u001b[0;34m.\u001b[0m\u001b[0mcolab\u001b[0m \u001b[0;32mimport\u001b[0m \u001b[0mauth\u001b[0m\u001b[0;34m\u001b[0m\u001b[0;34m\u001b[0m\u001b[0m\n\u001b[0;32m----> 5\u001b[0;31m \u001b[0mauth\u001b[0m\u001b[0;34m.\u001b[0m\u001b[0mauthenticate_user\u001b[0m\u001b[0;34m(\u001b[0m\u001b[0;34m)\u001b[0m\u001b[0;34m\u001b[0m\u001b[0;34m\u001b[0m\u001b[0m\n\u001b[0m\u001b[1;32m      6\u001b[0m \u001b[0;34m\u001b[0m\u001b[0m\n\u001b[1;32m      7\u001b[0m \u001b[0;32mimport\u001b[0m \u001b[0mgspread\u001b[0m\u001b[0;34m\u001b[0m\u001b[0;34m\u001b[0m\u001b[0m\n",
      "\u001b[0;32m~/.local/lib/python3.6/site-packages/google/colab/auth.py\u001b[0m in \u001b[0;36mauthenticate_user\u001b[0;34m(clear_output)\u001b[0m\n\u001b[1;32m    145\u001b[0m     \u001b[0mcontext_manager\u001b[0m \u001b[0;34m=\u001b[0m \u001b[0m_output\u001b[0m\u001b[0;34m.\u001b[0m\u001b[0mtemporary\u001b[0m \u001b[0;32mif\u001b[0m \u001b[0mclear_output\u001b[0m \u001b[0;32melse\u001b[0m \u001b[0m_noop\u001b[0m\u001b[0;34m\u001b[0m\u001b[0;34m\u001b[0m\u001b[0m\n\u001b[1;32m    146\u001b[0m     \u001b[0;32mwith\u001b[0m \u001b[0mcontext_manager\u001b[0m\u001b[0;34m(\u001b[0m\u001b[0;34m)\u001b[0m\u001b[0;34m:\u001b[0m\u001b[0;34m\u001b[0m\u001b[0;34m\u001b[0m\u001b[0m\n\u001b[0;32m--> 147\u001b[0;31m       \u001b[0m_gcloud_login\u001b[0m\u001b[0;34m(\u001b[0m\u001b[0;34m)\u001b[0m\u001b[0;34m\u001b[0m\u001b[0;34m\u001b[0m\u001b[0m\n\u001b[0m\u001b[1;32m    148\u001b[0m     \u001b[0m_install_adc\u001b[0m\u001b[0;34m(\u001b[0m\u001b[0;34m)\u001b[0m\u001b[0;34m\u001b[0m\u001b[0;34m\u001b[0m\u001b[0m\n\u001b[1;32m    149\u001b[0m     \u001b[0mcolab_tpu_addr\u001b[0m \u001b[0;34m=\u001b[0m \u001b[0m_os\u001b[0m\u001b[0;34m.\u001b[0m\u001b[0menviron\u001b[0m\u001b[0;34m.\u001b[0m\u001b[0mget\u001b[0m\u001b[0;34m(\u001b[0m\u001b[0;34m'COLAB_TPU_ADDR'\u001b[0m\u001b[0;34m,\u001b[0m \u001b[0;34m''\u001b[0m\u001b[0;34m)\u001b[0m\u001b[0;34m\u001b[0m\u001b[0;34m\u001b[0m\u001b[0m\n",
      "\u001b[0;32m~/.local/lib/python3.6/site-packages/google/colab/auth.py\u001b[0m in \u001b[0;36m_gcloud_login\u001b[0;34m()\u001b[0m\n\u001b[1;32m     77\u001b[0m       \u001b[0mstdout\u001b[0m\u001b[0;34m=\u001b[0m\u001b[0mf\u001b[0m\u001b[0;34m,\u001b[0m\u001b[0;34m\u001b[0m\u001b[0;34m\u001b[0m\u001b[0m\n\u001b[1;32m     78\u001b[0m       \u001b[0mstderr\u001b[0m\u001b[0;34m=\u001b[0m\u001b[0m_subprocess\u001b[0m\u001b[0;34m.\u001b[0m\u001b[0mSTDOUT\u001b[0m\u001b[0;34m,\u001b[0m\u001b[0;34m\u001b[0m\u001b[0;34m\u001b[0m\u001b[0m\n\u001b[0;32m---> 79\u001b[0;31m       universal_newlines=True)\n\u001b[0m\u001b[1;32m     80\u001b[0m   \u001b[0;32mtry\u001b[0m\u001b[0;34m:\u001b[0m\u001b[0;34m\u001b[0m\u001b[0;34m\u001b[0m\u001b[0m\n\u001b[1;32m     81\u001b[0m     \u001b[0;32mwhile\u001b[0m \u001b[0;32mTrue\u001b[0m\u001b[0;34m:\u001b[0m\u001b[0;34m\u001b[0m\u001b[0;34m\u001b[0m\u001b[0m\n",
      "\u001b[0;32m/usr/lib/python3.6/subprocess.py\u001b[0m in \u001b[0;36m__init__\u001b[0;34m(self, args, bufsize, executable, stdin, stdout, stderr, preexec_fn, close_fds, shell, cwd, env, universal_newlines, startupinfo, creationflags, restore_signals, start_new_session, pass_fds, encoding, errors)\u001b[0m\n\u001b[1;32m    727\u001b[0m                                 \u001b[0mc2pread\u001b[0m\u001b[0;34m,\u001b[0m \u001b[0mc2pwrite\u001b[0m\u001b[0;34m,\u001b[0m\u001b[0;34m\u001b[0m\u001b[0;34m\u001b[0m\u001b[0m\n\u001b[1;32m    728\u001b[0m                                 \u001b[0merrread\u001b[0m\u001b[0;34m,\u001b[0m \u001b[0merrwrite\u001b[0m\u001b[0;34m,\u001b[0m\u001b[0;34m\u001b[0m\u001b[0;34m\u001b[0m\u001b[0m\n\u001b[0;32m--> 729\u001b[0;31m                                 restore_signals, start_new_session)\n\u001b[0m\u001b[1;32m    730\u001b[0m         \u001b[0;32mexcept\u001b[0m\u001b[0;34m:\u001b[0m\u001b[0;34m\u001b[0m\u001b[0;34m\u001b[0m\u001b[0m\n\u001b[1;32m    731\u001b[0m             \u001b[0;31m# Cleanup if the child failed starting.\u001b[0m\u001b[0;34m\u001b[0m\u001b[0;34m\u001b[0m\u001b[0;34m\u001b[0m\u001b[0m\n",
      "\u001b[0;32m/usr/lib/python3.6/subprocess.py\u001b[0m in \u001b[0;36m_execute_child\u001b[0;34m(self, args, executable, preexec_fn, close_fds, pass_fds, cwd, env, startupinfo, creationflags, shell, p2cread, p2cwrite, c2pread, c2pwrite, errread, errwrite, restore_signals, start_new_session)\u001b[0m\n\u001b[1;32m   1362\u001b[0m                         \u001b[0;32mif\u001b[0m \u001b[0merrno_num\u001b[0m \u001b[0;34m==\u001b[0m \u001b[0merrno\u001b[0m\u001b[0;34m.\u001b[0m\u001b[0mENOENT\u001b[0m\u001b[0;34m:\u001b[0m\u001b[0;34m\u001b[0m\u001b[0;34m\u001b[0m\u001b[0m\n\u001b[1;32m   1363\u001b[0m                             \u001b[0merr_msg\u001b[0m \u001b[0;34m+=\u001b[0m \u001b[0;34m': '\u001b[0m \u001b[0;34m+\u001b[0m \u001b[0mrepr\u001b[0m\u001b[0;34m(\u001b[0m\u001b[0merr_filename\u001b[0m\u001b[0;34m)\u001b[0m\u001b[0;34m\u001b[0m\u001b[0;34m\u001b[0m\u001b[0m\n\u001b[0;32m-> 1364\u001b[0;31m                     \u001b[0;32mraise\u001b[0m \u001b[0mchild_exception_type\u001b[0m\u001b[0;34m(\u001b[0m\u001b[0merrno_num\u001b[0m\u001b[0;34m,\u001b[0m \u001b[0merr_msg\u001b[0m\u001b[0;34m,\u001b[0m \u001b[0merr_filename\u001b[0m\u001b[0;34m)\u001b[0m\u001b[0;34m\u001b[0m\u001b[0;34m\u001b[0m\u001b[0m\n\u001b[0m\u001b[1;32m   1365\u001b[0m                 \u001b[0;32mraise\u001b[0m \u001b[0mchild_exception_type\u001b[0m\u001b[0;34m(\u001b[0m\u001b[0merr_msg\u001b[0m\u001b[0;34m)\u001b[0m\u001b[0;34m\u001b[0m\u001b[0;34m\u001b[0m\u001b[0m\n\u001b[1;32m   1366\u001b[0m \u001b[0;34m\u001b[0m\u001b[0m\n",
      "\u001b[0;31mFileNotFoundError\u001b[0m: [Errno 2] No such file or directory: 'gcloud': 'gcloud'"
     ]
    }
   ],
   "source": [
    "# The next steps envolves manual curation of the Wikidata items for each \n",
    "# person in Wikidata\n",
    "!pip3 install google.colab\n",
    "from google.colab import auth\n",
    "auth.authenticate_user()\n",
    "\n",
    "import gspread\n",
    "from oauth2client.client import GoogleCredentials\n",
    "\n",
    "gc = gspread.authorize(GoogleCredentials.get_application_default())"
   ]
  },
  {
   "cell_type": "code",
   "execution_count": null,
   "metadata": {},
   "outputs": [],
   "source": []
  }
 ],
 "metadata": {
  "kernelspec": {
   "display_name": "Python 3",
   "language": "python",
   "name": "python3"
  },
  "language_info": {
   "codemirror_mode": {
    "name": "ipython",
    "version": 3
   },
   "file_extension": ".py",
   "mimetype": "text/x-python",
   "name": "python",
   "nbconvert_exporter": "python",
   "pygments_lexer": "ipython3",
   "version": "3.6.9"
  }
 },
 "nbformat": 4,
 "nbformat_minor": 4
}
