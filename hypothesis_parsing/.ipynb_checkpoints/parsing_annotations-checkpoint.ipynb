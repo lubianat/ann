{
 "cells": [
  {
   "cell_type": "code",
   "execution_count": 21,
   "metadata": {},
   "outputs": [],
   "source": [
    "import requests\n",
    "\n"
   ]
  },
  {
   "cell_type": "code",
   "execution_count": 22,
   "metadata": {},
   "outputs": [
    {
     "data": {
      "text/plain": [
       "<Response [200]>"
      ]
     },
     "execution_count": 22,
     "metadata": {},
     "output_type": "execute_result"
    }
   ],
   "source": [
    "result"
   ]
  },
  {
   "cell_type": "code",
   "execution_count": 31,
   "metadata": {},
   "outputs": [],
   "source": [
    "import pandas as pd\n",
    "import time"
   ]
  },
  {
   "cell_type": "code",
   "execution_count": 34,
   "metadata": {},
   "outputs": [
    {
     "name": "stdout",
     "output_type": "stream",
     "text": [
      "offset: 200\n",
      "offset: 400\n",
      "offset: 600\n",
      "offset: 800\n",
      "offset: 1000\n",
      "offset: 1200\n",
      "offset: 1400\n",
      "offset: 1600\n",
      "offset: 1800\n",
      "offset: 2000\n",
      "offset: 2200\n"
     ]
    }
   ],
   "source": [
    "offset = 0\n",
    "query_params = {\"url\":\"https://europepmc.org/article/MED/29206104\",\n",
    "                \"offset\":str(offset),\n",
    "                \"limit\":\"200\"}\n",
    "\n",
    "\n",
    "result = requests.get(\"https://api.hypothes.is/api/search\", params = query_params)\n",
    "\n",
    "df = pd.json_normalize(result.json()['rows'])\n",
    "\n",
    "df.head(4)\n",
    "df_now = df\n",
    "while len(df_now) == 200:\n",
    "    time.sleep(1)\n",
    "    offset += 200\n",
    "    print(\"offset: \" + str(offset))\n",
    "    query_params = {\"url\":\"https://europepmc.org/article/MED/29206104\",\n",
    "                \"offset\":str(offset),\n",
    "                \"limit\":\"200\"}\n",
    "    result = requests.get(\"https://api.hypothes.is/api/search\", params = query_params)\n",
    "    df_now = pd.json_normalize(result.json()['rows'])\n",
    "    df = df.append(df_now)\n",
    "    "
   ]
  },
  {
   "cell_type": "code",
   "execution_count": 74,
   "metadata": {},
   "outputs": [],
   "source": [
    "wikidata_ids = df[\"text\"]\n",
    "\n",
    "wikidata_ids = wikidata_ids[[\"entity/Q\" in value for value in wikidata_ids]]\n",
    "wikidata_ids = [value.replace(\"\\n\", \"\") for value in wikidata_ids]\n"
   ]
  },
  {
   "cell_type": "code",
   "execution_count": 75,
   "metadata": {},
   "outputs": [
    {
     "data": {
      "text/plain": [
       "1093"
      ]
     },
     "execution_count": 75,
     "metadata": {},
     "output_type": "execute_result"
    }
   ],
   "source": [
    "len(set(wikidata_ids))"
   ]
  },
  {
   "cell_type": "code",
   "execution_count": 76,
   "metadata": {},
   "outputs": [],
   "source": [
    "wikidata_unique_ids = list(set(wikidata_ids))\n",
    "qid_values = [re.sub(\".*Q\",\"wd:Q\", qid) for qid in wikidata_unique_ids]\n"
   ]
  },
  {
   "cell_type": "code",
   "execution_count": 106,
   "metadata": {},
   "outputs": [],
   "source": [
    "import wikidata2df\n",
    "import re\n",
    "\n",
    "qid_values = [re.sub(\".*Q\",\"wd:Q\", qid) for qid in wikidata_unique_ids]\n",
    "\n",
    "def get_chunks(lst, n):\n",
    "    \"\"\"Yield successive n-sized chunks from lst.\"\"\"\n",
    "    for i in range(0, len(lst), n):\n",
    "        yield lst[i:i + n]\n",
    "        \n",
    "qid_values_list = get_chunks(qid_values, 400)\n",
    "\n",
    "\n",
    "list_of = []\n",
    "i = 0\n",
    "for qid_values in qid_values_list:\n",
    "        i+=1\n",
    "        query = \"\"\"\n",
    "\n",
    "        SELECT ?item ?itemLabel ?superclass ?superclassLabel ?type ?typeLabel\n",
    "        WHERE{\n",
    "         VALUES ?item {\"\"\" + \" \".join(qid_values) +\"\"\"}\n",
    "         ?item wdt:P31 ?type.\n",
    "         ?item wdt:P279 ?superclass.\n",
    "         SERVICE wikibase:label { bd:serviceParam wikibase:language \"[AUTO_LANGUAGE],en\". }\n",
    "\n",
    "        }\n",
    "        \"\"\"\n",
    "        if i == 1:\n",
    "            expanded_qid_table = wikidata2df.wikidata2df(query)\n",
    "        else:\n",
    "            result_now =  wikidata2df.wikidata2df(query)\n",
    "            expanded_qid_table = expanded_qid_table.append(result_now)"
   ]
  },
  {
   "cell_type": "code",
   "execution_count": 107,
   "metadata": {},
   "outputs": [],
   "source": [
    "\n",
    "list_of = []\n",
    "i = 0\n",
    "for qid_values in qid_values_list:\n",
    "        i+=1\n",
    "        query = \"\"\"\n",
    "\n",
    "        SELECT ?item ?itemLabel \n",
    "        WHERE{\n",
    "         VALUES ?item {\"\"\" + \" \".join(qid_values) +\"\"\"}\n",
    "         SERVICE wikibase:label { bd:serviceParam wikibase:language \"[AUTO_LANGUAGE],en\". }\n",
    "\n",
    "        }\n",
    "        \"\"\"\n",
    "        if i == 1:\n",
    "            qid_table = wikidata2df.wikidata2df(query)\n",
    "        else:\n",
    "            result_now =  wikidata2df.wikidata2df(query)\n",
    "            qid_table = qid_table.append(result_now)"
   ]
  },
  {
   "cell_type": "code",
   "execution_count": 108,
   "metadata": {},
   "outputs": [],
   "source": [
    "qid_values_list = get_chunks(qid_values, 400)"
   ]
  },
  {
   "cell_type": "code",
   "execution_count": 112,
   "metadata": {},
   "outputs": [
    {
     "data": {
      "text/html": [
       "<div>\n",
       "<style scoped>\n",
       "    .dataframe tbody tr th:only-of-type {\n",
       "        vertical-align: middle;\n",
       "    }\n",
       "\n",
       "    .dataframe tbody tr th {\n",
       "        vertical-align: top;\n",
       "    }\n",
       "\n",
       "    .dataframe thead th {\n",
       "        text-align: right;\n",
       "    }\n",
       "</style>\n",
       "<table border=\"1\" class=\"dataframe\">\n",
       "  <thead>\n",
       "    <tr style=\"text-align: right;\">\n",
       "      <th></th>\n",
       "      <th>item</th>\n",
       "      <th>itemLabel</th>\n",
       "    </tr>\n",
       "  </thead>\n",
       "  <tbody>\n",
       "    <tr>\n",
       "      <th>0</th>\n",
       "      <td>Q1553259</td>\n",
       "      <td>insight</td>\n",
       "    </tr>\n",
       "    <tr>\n",
       "      <th>1</th>\n",
       "      <td>Q1920566</td>\n",
       "      <td>answer</td>\n",
       "    </tr>\n",
       "    <tr>\n",
       "      <th>2</th>\n",
       "      <td>Q560361</td>\n",
       "      <td>draft document</td>\n",
       "    </tr>\n",
       "    <tr>\n",
       "      <th>3</th>\n",
       "      <td>Q105495234</td>\n",
       "      <td>3'-end region</td>\n",
       "    </tr>\n",
       "    <tr>\n",
       "      <th>4</th>\n",
       "      <td>Q2996394</td>\n",
       "      <td>biological process</td>\n",
       "    </tr>\n",
       "    <tr>\n",
       "      <th>...</th>\n",
       "      <td>...</td>\n",
       "      <td>...</td>\n",
       "    </tr>\n",
       "    <tr>\n",
       "      <th>288</th>\n",
       "      <td>Q188619</td>\n",
       "      <td>hierarchy</td>\n",
       "    </tr>\n",
       "    <tr>\n",
       "      <th>289</th>\n",
       "      <td>Q2944073</td>\n",
       "      <td>myeloid progenitor cell</td>\n",
       "    </tr>\n",
       "    <tr>\n",
       "      <th>290</th>\n",
       "      <td>Q11563</td>\n",
       "      <td>number</td>\n",
       "    </tr>\n",
       "    <tr>\n",
       "      <th>291</th>\n",
       "      <td>Q105702435</td>\n",
       "      <td>molecular signature</td>\n",
       "    </tr>\n",
       "    <tr>\n",
       "      <th>292</th>\n",
       "      <td>Q1154774</td>\n",
       "      <td>electrophysiology</td>\n",
       "    </tr>\n",
       "  </tbody>\n",
       "</table>\n",
       "<p>293 rows × 2 columns</p>\n",
       "</div>"
      ],
      "text/plain": [
       "           item                itemLabel\n",
       "0      Q1553259                  insight\n",
       "1      Q1920566                   answer\n",
       "2       Q560361           draft document\n",
       "3    Q105495234            3'-end region\n",
       "4      Q2996394       biological process\n",
       "..          ...                      ...\n",
       "288     Q188619                hierarchy\n",
       "289    Q2944073  myeloid progenitor cell\n",
       "290      Q11563                   number\n",
       "291  Q105702435      molecular signature\n",
       "292    Q1154774        electrophysiology\n",
       "\n",
       "[293 rows x 2 columns]"
      ]
     },
     "execution_count": 112,
     "metadata": {},
     "output_type": "execute_result"
    }
   ],
   "source": [
    "qid_table\n",
    "    "
   ]
  },
  {
   "cell_type": "raw",
   "metadata": {},
   "source": [
    "    expanded_qid_table\n",
    "    "
   ]
  }
 ],
 "metadata": {
  "kernelspec": {
   "display_name": "Python 3",
   "language": "python",
   "name": "python3"
  },
  "language_info": {
   "codemirror_mode": {
    "name": "ipython",
    "version": 3
   },
   "file_extension": ".py",
   "mimetype": "text/x-python",
   "name": "python",
   "nbconvert_exporter": "python",
   "pygments_lexer": "ipython3",
   "version": "3.6.9"
  }
 },
 "nbformat": 4,
 "nbformat_minor": 4
}
