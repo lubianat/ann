{
  "nbformat": 4,
  "nbformat_minor": 0,
  "metadata": {
    "colab": {
      "name": "scispacy_linking_via_mesh.ipynb",
      "provenance": [],
      "collapsed_sections": []
    },
    "kernelspec": {
      "display_name": "Python 3",
      "language": "python",
      "name": "python3"
    },
    "language_info": {
      "codemirror_mode": {
        "name": "ipython",
        "version": 3
      },
      "file_extension": ".py",
      "mimetype": "text/x-python",
      "name": "python",
      "nbconvert_exporter": "python",
      "pygments_lexer": "ipython3",
      "version": "3.7.6"
    }
  },
  "cells": [
    {
      "cell_type": "markdown",
      "metadata": {
        "id": "v0hVqAJ-nKzF"
      },
      "source": [
        "#### Entity identification and Wikidata linking with MeSH terms\n",
        "\n",
        "Based on scispacy_linking_via_umls.ipynb\n"
      ]
    },
    {
      "cell_type": "code",
      "metadata": {
        "id": "G_no39qRZzRi"
      },
      "source": [
        "## Install required dependencies\n",
        "!pip install scispacy\n",
        "!pip install https://s3-us-west-2.amazonaws.com/ai2-s2-scispacy/releases/v0.2.5/en_core_sci_md-0.2.5.tar.gz # Medium language model\n",
        "!pip install wikidataintegrator\n",
        "!pip install Wikidata "
      ],
      "execution_count": null,
      "outputs": []
    },
    {
      "cell_type": "code",
      "metadata": {
        "id": "3xR9dKnWZBAO"
      },
      "source": [
        "# Load libraries\n",
        "import scispacy\n",
        "import spacy\n",
        "import en_core_sci_md\n",
        "import urllib.parse\n",
        "import pandas as pd\n",
        "from wikidataintegrator import wdi_core\n",
        "from scispacy.abbreviation import AbbreviationDetector\n",
        "from scispacy.linking import EntityLinker\n",
        "from functools import lru_cache\n",
        "import requests\n",
        "import json\n",
        "import os\n",
        "import sys\n",
        "import stat\n",
        "import re\n",
        "import numpy as np\n",
        "import requests"
      ],
      "execution_count": null,
      "outputs": []
    },
    {
      "cell_type": "code",
      "metadata": {
        "id": "aNmFyqp3GOdz"
      },
      "source": [
        "#fetch article abstracts from EuroPMC articles api\n",
        "def get_pmc_meta(pid):\n",
        "   pmeta = {} #pmc metadata (mesh terms, title, abstract\n",
        "   try:\n",
        "       if re.search('PMC',pid) is None:\n",
        "           pq = 'ext_id%3A'+pid+'%20src%3Amed'\n",
        "       else:\n",
        "           pq = pid       \n",
        "       url = 'https://www.ebi.ac.uk/europepmc/webservices/rest/search?query='+pq+'&resultType=core&synonym=TRUE&cursorMark=*&pageSize=1000&format=json'\n",
        "       response = requests.get(url)\n",
        "       rjson = response.json()       \n",
        "       for rslt in rjson['resultList']['result']:\n",
        "           pmeta['pmid'] = rslt['pmid'] if 'pmid' in rslt.keys() else ''\n",
        "           pmeta['pmcid'] = rslt['pmcid'] if 'pmcid' in rslt.keys() else ''\n",
        "           pmeta['mesh'] = [] # pmc mesh terms\n",
        "           if 'meshHeadingList' in rslt.keys():\n",
        "               for m in rslt['meshHeadingList']['meshHeading']:\n",
        "                   if 'meshQualifierList' in m.keys():\n",
        "                       for q in m['meshQualifierList']['meshQualifier']:\n",
        "                           pmeta['mesh'].append(m['descriptorName'])\n",
        "                           pmeta['mesh'].append(q['qualifierName'])\n",
        "                   else:\n",
        "                       pmeta['mesh'].append(m['descriptorName'])\n",
        "           pmeta['pmc_title'] = rslt['title'] #pmc title\n",
        "           pmeta['pmc_abstract'] = rslt['abstractText'] if 'abstractText' in rslt.keys() else '' #\n",
        "   except:\n",
        "       print('ERROR IN PMC ID:'+pid)\n",
        "   return pmeta['pmc_abstract']\n"
      ],
      "execution_count": null,
      "outputs": []
    },
    {
      "cell_type": "code",
      "metadata": {
        "id": "5yG2Qz05ZuTj"
      },
      "source": [
        "nlp = en_core_sci_md.load()"
      ],
      "execution_count": null,
      "outputs": []
    },
    {
      "cell_type": "code",
      "metadata": {
        "id": "8tks6g9FLtQw",
        "outputId": "717dede2-2f6a-42c3-d038-dfd2afb2d98d",
        "colab": {
          "base_uri": "https://localhost:8080/",
          "height": 207
        }
      },
      "source": [
        "#Add mesh terms\n",
        "abbreviation_pipe = AbbreviationDetector(nlp)\n",
        "nlp.add_pipe(abbreviation_pipe)\n",
        "linker = EntityLinker(resolve_abbreviations=True, name=\"mesh\")\n",
        "nlp.add_pipe(linker)"
      ],
      "execution_count": null,
      "outputs": [
        {
          "output_type": "stream",
          "text": [
            "https://ai2-s2-scispacy.s3-us-west-2.amazonaws.com/data/mesh_linking_model/tfidf_vectors_sparse.npz not found in cache, downloading to /tmp/tmp2c4mogq1\n",
            "Finished download, copying /tmp/tmp2c4mogq1 to cache at /root/.scispacy/datasets/b28c5ae2b3052b66e3df4d9e8082fd6138060d0369555a603bf103facbc8a175.cdcb8550ec06b33ef35938f3ffb30ca58f6082bc649ce9c8069d041eb33c22b6.tfidf_vectors_sparse.npz\n",
            "https://ai2-s2-scispacy.s3-us-west-2.amazonaws.com/data/mesh_linking_model/nmslib_index.bin not found in cache, downloading to /tmp/tmpwxqnuuam\n",
            "Finished download, copying /tmp/tmpwxqnuuam to cache at /root/.scispacy/datasets/6812e57b9f4b0e14d6f9974a745e136fb47b5c2a2d955635a4d13675f6add07d.62b9b370bfb8c9433ba8fb69c1fb83405116079c4f741698b8159319d01833c0.nmslib_index.bin\n",
            "https://ai2-s2-scispacy.s3-us-west-2.amazonaws.com/data/mesh_linking_model/tfidf_vectorizer.joblib not found in cache, downloading to /tmp/tmp7io73io8\n",
            "Finished download, copying /tmp/tmp7io73io8 to cache at /root/.scispacy/datasets/418d053aba7875dd273cbad2b63ccebdd7ceeb923355172d1dc581ec780c8b13.5473393740d5e23a46590babbdd7a98603d6a22476c1ecbca3faf50b07e1fa71.tfidf_vectorizer.joblib\n",
            "https://ai2-s2-scispacy.s3-us-west-2.amazonaws.com/data/mesh_linking_model/concept_aliases.json not found in cache, downloading to /tmp/tmp4_w02vum\n",
            "Finished download, copying /tmp/tmp4_w02vum to cache at /root/.scispacy/datasets/ee3f06eff5008dc3a2f9e52df6128f32ac832c0026a9a677bbe7a2d8f253ca43.1b70562d4cd41b4b8657534ae5abd2a8ee5641e9a11e92b9c172165a3ae6a5c2.concept_aliases.json\n",
            "https://ai2-s2-scispacy.s3-us-west-2.amazonaws.com/data/mesh_2020.jsonl not found in cache, downloading to /tmp/tmpz1bn0u7z\n",
            "Finished download, copying /tmp/tmpz1bn0u7z to cache at /root/.scispacy/datasets/e3d47cc15aee0d5dfbaff226e071e35bcb731ad8a752f91bbda8b8dd4b2acc67.aa95b0492040d1386799638de559a625798ede06bc23e9b77166500fab9903d0.mesh_2020.jsonl\n"
          ],
          "name": "stdout"
        }
      ]
    },
    {
      "cell_type": "code",
      "metadata": {
        "id": "7oFnYiRygZNo"
      },
      "source": [
        "# Function by github.com/lubianat with some slight alterations by me\n",
        "@lru_cache(maxsize=None)\n",
        "def get_wikidata_item(wikidata_property, value):\n",
        "    query_result = wdi_core.WDItemEngine.execute_sparql_query(\n",
        "        f'SELECT distinct ?item WHERE {{ ?item wdt:{wikidata_property} \"{value}\" }}'\n",
        "    )\n",
        "    try:\n",
        "        match = query_result[\"results\"][\"bindings\"][0]\n",
        "    except:\n",
        "        return None\n",
        "    qid = match[\"item\"][\"value\"]\n",
        "\n",
        "    qid = qid.split(\"/\")[4]\n",
        "    return qid"
      ],
      "execution_count": null,
      "outputs": []
    },
    {
      "cell_type": "code",
      "metadata": {
        "id": "AFlbjxfGaSZn"
      },
      "source": [
        "# Function to fetch first serach result of wikidata entry\n",
        "# source https://stackoverflow.com/questions/51419785/extract-data-from-wikidata-in-python\n",
        "API_ENDPOINT = \"https://www.wikidata.org/w/api.php\"\n",
        "def get_arbitrary_wdataids(term):\n",
        "  term = urllib.parse.quote(term)\n",
        "  params = {\n",
        "       'action': 'wbsearchentities',\n",
        "       'format': 'json',\n",
        "       'language': 'en',\n",
        "       'search': term\n",
        "  }\n",
        "  r = requests.get(API_ENDPOINT, params = params) #make the request\n",
        "  try:\n",
        "    wdataid = r.json()['search'][0]['id']\n",
        "  except IndexError:\n",
        "    wdataid = None\n",
        "  return wdataid"
      ],
      "execution_count": null,
      "outputs": []
    },
    {
      "cell_type": "code",
      "metadata": {
        "id": "PpJAWvEBLb4k"
      },
      "source": [
        "#mesh term to wikidata\n",
        "def get_wdt_items_from_mesh_entities(doc):\n",
        "\n",
        "  identified = []\n",
        "  for ent in doc.ents:\n",
        "      arbitrary_wdata_id = get_arbitrary_wdataids(str(ent))\n",
        "      try:\n",
        "        best_id = ent._.kb_ents[0][0]\n",
        "        match_score = ent._.kb_ents[1][1]\n",
        "      except IndexError:\n",
        "        best_id = None\n",
        "        match_score = \"NA\"\n",
        "      identified.append([ent.text, ent.start_char, ent.end_char, best_id, match_score, arbitrary_wdata_id])\n",
        "\n",
        "  entity_df = pd.DataFrame.from_records(identified, \n",
        "                                        columns=['label', 'start_pos', 'end_pos', 'mesh_id', 'meshid_match_score', 'arbitrary_wdata_id'])\n",
        "  \n",
        "  entity_df['wdata_id'] = entity_df['mesh_id'].apply(lambda x: get_wikidata_item(\"P486\", x))\n",
        "\n",
        "  return entity_df"
      ],
      "execution_count": null,
      "outputs": []
    },
    {
      "cell_type": "code",
      "metadata": {
        "id": "Z1n61iHbU0X9"
      },
      "source": [
        "#Wrapper function for EuroPMC\n",
        "def get_pmcid_annotations(pmcid):\n",
        "  text = get_pmc_meta(pmcid)\n",
        "  doc = nlp(text)\n",
        "  data = get_wdt_items_from_mesh_entities(doc)\n",
        "  return data\n"
      ],
      "execution_count": null,
      "outputs": []
    },
    {
      "cell_type": "markdown",
      "metadata": {
        "id": "yrZ4EdWuoCq3"
      },
      "source": [
        "### Testing\n"
      ]
    },
    {
      "cell_type": "code",
      "metadata": {
        "id": "m_COlEVJsCA2",
        "outputId": "e6839595-2d70-4d21-e636-a6562cc96583",
        "colab": {
          "base_uri": "https://localhost:8080/",
          "height": 419
        }
      },
      "source": [
        "get_pmcid_annotations(\"PMC7448226\")"
      ],
      "execution_count": null,
      "outputs": [
        {
          "output_type": "execute_result",
          "data": {
            "text/html": [
              "<div>\n",
              "<style scoped>\n",
              "    .dataframe tbody tr th:only-of-type {\n",
              "        vertical-align: middle;\n",
              "    }\n",
              "\n",
              "    .dataframe tbody tr th {\n",
              "        vertical-align: top;\n",
              "    }\n",
              "\n",
              "    .dataframe thead th {\n",
              "        text-align: right;\n",
              "    }\n",
              "</style>\n",
              "<table border=\"1\" class=\"dataframe\">\n",
              "  <thead>\n",
              "    <tr style=\"text-align: right;\">\n",
              "      <th></th>\n",
              "      <th>label</th>\n",
              "      <th>start_pos</th>\n",
              "      <th>end_pos</th>\n",
              "      <th>mesh_id</th>\n",
              "      <th>meshid_match_score</th>\n",
              "      <th>arbitary_wdata_id</th>\n",
              "      <th>wdata_id</th>\n",
              "    </tr>\n",
              "  </thead>\n",
              "  <tbody>\n",
              "    <tr>\n",
              "      <th>0</th>\n",
              "      <td>Exosomes</td>\n",
              "      <td>12</td>\n",
              "      <td>20</td>\n",
              "      <td>D055354</td>\n",
              "      <td>0.721988</td>\n",
              "      <td>Q903634</td>\n",
              "      <td>Q903634</td>\n",
              "    </tr>\n",
              "    <tr>\n",
              "      <th>1</th>\n",
              "      <td>membranous vesicles</td>\n",
              "      <td>42</td>\n",
              "      <td>61</td>\n",
              "      <td>None</td>\n",
              "      <td>NA</td>\n",
              "      <td>None</td>\n",
              "      <td>None</td>\n",
              "    </tr>\n",
              "    <tr>\n",
              "      <th>2</th>\n",
              "      <td>RNA</td>\n",
              "      <td>69</td>\n",
              "      <td>72</td>\n",
              "      <td>D012313</td>\n",
              "      <td>0.760737</td>\n",
              "      <td>Q11053</td>\n",
              "      <td>Q11053</td>\n",
              "    </tr>\n",
              "    <tr>\n",
              "      <th>3</th>\n",
              "      <td>content</td>\n",
              "      <td>73</td>\n",
              "      <td>80</td>\n",
              "      <td>None</td>\n",
              "      <td>NA</td>\n",
              "      <td>Q1260632</td>\n",
              "      <td>None</td>\n",
              "    </tr>\n",
              "    <tr>\n",
              "      <th>4</th>\n",
              "      <td>exosomes</td>\n",
              "      <td>99</td>\n",
              "      <td>107</td>\n",
              "      <td>D055354</td>\n",
              "      <td>0.721988</td>\n",
              "      <td>Q903634</td>\n",
              "      <td>Q903634</td>\n",
              "    </tr>\n",
              "    <tr>\n",
              "      <th>...</th>\n",
              "      <td>...</td>\n",
              "      <td>...</td>\n",
              "      <td>...</td>\n",
              "      <td>...</td>\n",
              "      <td>...</td>\n",
              "      <td>...</td>\n",
              "      <td>...</td>\n",
              "    </tr>\n",
              "    <tr>\n",
              "      <th>84</th>\n",
              "      <td>bioindicator</td>\n",
              "      <td>1910</td>\n",
              "      <td>1922</td>\n",
              "      <td>D000074062</td>\n",
              "      <td>0.790585</td>\n",
              "      <td>Q864438</td>\n",
              "      <td>None</td>\n",
              "    </tr>\n",
              "    <tr>\n",
              "      <th>85</th>\n",
              "      <td>diagnosis</td>\n",
              "      <td>1931</td>\n",
              "      <td>1940</td>\n",
              "      <td>D003933</td>\n",
              "      <td>0.87343</td>\n",
              "      <td>Q177719</td>\n",
              "      <td>Q16644043</td>\n",
              "    </tr>\n",
              "    <tr>\n",
              "      <th>86</th>\n",
              "      <td>prognosis</td>\n",
              "      <td>1945</td>\n",
              "      <td>1954</td>\n",
              "      <td>None</td>\n",
              "      <td>NA</td>\n",
              "      <td>Q592442</td>\n",
              "      <td>None</td>\n",
              "    </tr>\n",
              "    <tr>\n",
              "      <th>87</th>\n",
              "      <td>solid tumors</td>\n",
              "      <td>1958</td>\n",
              "      <td>1970</td>\n",
              "      <td>None</td>\n",
              "      <td>NA</td>\n",
              "      <td>None</td>\n",
              "      <td>None</td>\n",
              "    </tr>\n",
              "    <tr>\n",
              "      <th>88</th>\n",
              "      <td>INPLASY Registration Number</td>\n",
              "      <td>1972</td>\n",
              "      <td>1999</td>\n",
              "      <td>None</td>\n",
              "      <td>NA</td>\n",
              "      <td>None</td>\n",
              "      <td>None</td>\n",
              "    </tr>\n",
              "  </tbody>\n",
              "</table>\n",
              "<p>89 rows × 7 columns</p>\n",
              "</div>"
            ],
            "text/plain": [
              "                          label  start_pos  ...  arbitary_wdata_id   wdata_id\n",
              "0                      Exosomes         12  ...            Q903634    Q903634\n",
              "1           membranous vesicles         42  ...               None       None\n",
              "2                           RNA         69  ...             Q11053     Q11053\n",
              "3                       content         73  ...           Q1260632       None\n",
              "4                      exosomes         99  ...            Q903634    Q903634\n",
              "..                          ...        ...  ...                ...        ...\n",
              "84                 bioindicator       1910  ...            Q864438       None\n",
              "85                    diagnosis       1931  ...            Q177719  Q16644043\n",
              "86                    prognosis       1945  ...            Q592442       None\n",
              "87                 solid tumors       1958  ...               None       None\n",
              "88  INPLASY Registration Number       1972  ...               None       None\n",
              "\n",
              "[89 rows x 7 columns]"
            ]
          },
          "metadata": {
            "tags": []
          },
          "execution_count": 26
        }
      ]
    }
  ]
}