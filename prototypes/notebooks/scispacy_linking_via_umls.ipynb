{
  "nbformat": 4,
  "nbformat_minor": 0,
  "metadata": {
    "colab": {
      "name": "scispacy_linking_via_umls.ipynb",
      "provenance": [],
      "collapsed_sections": []
    },
    "kernelspec": {
      "name": "python3",
      "display_name": "Python 3"
    }
  },
  "cells": [
    {
      "cell_type": "markdown",
      "metadata": {
        "id": "v0hVqAJ-nKzF"
      },
      "source": [
        "#### Enviroment setup\n",
        "\n",
        "Downloading models and defining functions, this takes a while."
      ]
    },
    {
      "cell_type": "code",
      "metadata": {
        "id": "G_no39qRZzRi"
      },
      "source": [
        "!pip install scispacy\n",
        "!pip install https://s3-us-west-2.amazonaws.com/ai2-s2-scispacy/releases/v0.2.5/en_core_sci_md-0.2.5.tar.gz # Medium sized language model\n",
        "!pip install wikidataintegrator"
      ],
      "execution_count": null,
      "outputs": []
    },
    {
      "cell_type": "code",
      "metadata": {
        "id": "3xR9dKnWZBAO"
      },
      "source": [
        "import scispacy\n",
        "import spacy\n",
        "import pandas as pd\n",
        "from wikidataintegrator import wdi_core\n",
        "from scispacy.abbreviation import AbbreviationDetector\n",
        "from scispacy.linking import EntityLinker\n",
        "from functools import lru_cache"
      ],
      "execution_count": null,
      "outputs": []
    },
    {
      "cell_type": "code",
      "metadata": {
        "id": "5yG2Qz05ZuTj"
      },
      "source": [
        "import en_core_sci_md\n",
        "nlp = en_core_sci_md.load()"
      ],
      "execution_count": null,
      "outputs": []
    },
    {
      "cell_type": "code",
      "metadata": {
        "id": "RS_YKN4vetXI",
        "outputId": "61e705d3-934d-474d-acb1-2880cc96aab6",
        "colab": {
          "base_uri": "https://localhost:8080/",
          "height": 106
        }
      },
      "source": [
        "abbreviation_pipe = AbbreviationDetector(nlp)\n",
        "nlp.add_pipe(abbreviation_pipe)\n",
        "linker = EntityLinker(resolve_abbreviations=True, name=\"umls\")\n",
        "nlp.add_pipe(linker)"
      ],
      "execution_count": null,
      "outputs": [
        {
          "output_type": "stream",
          "text": [
            "/usr/local/lib/python3.6/dist-packages/sklearn/base.py:318: UserWarning: Trying to unpickle estimator TfidfTransformer from version 0.20.3 when using version 0.22.2.post1. This might lead to breaking code or invalid results. Use at your own risk.\n",
            "  UserWarning)\n",
            "/usr/local/lib/python3.6/dist-packages/sklearn/base.py:318: UserWarning: Trying to unpickle estimator TfidfVectorizer from version 0.20.3 when using version 0.22.2.post1. This might lead to breaking code or invalid results. Use at your own risk.\n",
            "  UserWarning)\n"
          ],
          "name": "stderr"
        }
      ]
    },
    {
      "cell_type": "code",
      "metadata": {
        "id": "7oFnYiRygZNo"
      },
      "source": [
        "# Function by github.com/lubianat with some slight alterations by github.com/jvfe\n",
        "@lru_cache(maxsize=None)\n",
        "def get_wikidata_item(wikidata_property, value):\n",
        "    \"\"\"Gets a Wikidata item for a determined property-value pair\n",
        "\n",
        "\n",
        "      Args:\n",
        "        property (str): The property to search\n",
        "        value (str): The value of said property\n",
        "      \n",
        "      Returns:\n",
        "        str: A Wikidata item or a \"None\" value if no item found.\n",
        "    \"\"\"\n",
        "    query_result = wdi_core.WDItemEngine.execute_sparql_query(\n",
        "        f'SELECT distinct ?item WHERE {{ ?item wdt:{wikidata_property} \"{value}\" }}'\n",
        "    )\n",
        "    try:\n",
        "        match = query_result[\"results\"][\"bindings\"][0]\n",
        "    except:\n",
        "        return None\n",
        "    qid = match[\"item\"][\"value\"]\n",
        "\n",
        "    qid = qid.split(\"/\")[4]\n",
        "    return qid"
      ],
      "execution_count": null,
      "outputs": []
    },
    {
      "cell_type": "code",
      "metadata": {
        "id": "SXzHNaoOnajc"
      },
      "source": [
        "def get_wdt_items_from_umls_entities(doc):\n",
        "  \"\"\"Create a table from the UMLS entities and link them to WDT\n",
        "  \"\"\"\n",
        "  identified = []\n",
        "  for ent in doc.ents:\n",
        "      try:\n",
        "        best_id = ent._.kb_ents[0][0]\n",
        "      except IndexError:\n",
        "        best_id = None\n",
        "      identified.append([ent.text, ent.start_char, ent.end_char, best_id])\n",
        "\n",
        "  entity_df = pd.DataFrame.from_records(identified, \n",
        "                                        columns=['label', 'start_pos', 'end_pos', 'umls_id'])\n",
        "  \n",
        "  entity_df['qid'] = entity_df['umls_id'].apply(lambda x: get_wikidata_item(\"P2892\", x))\n",
        "\n",
        "  return entity_df"
      ],
      "execution_count": null,
      "outputs": []
    },
    {
      "cell_type": "markdown",
      "metadata": {
        "id": "yrZ4EdWuoCq3"
      },
      "source": [
        "### Testing out"
      ]
    },
    {
      "cell_type": "code",
      "metadata": {
        "id": "MHXGNR-UeRHf"
      },
      "source": [
        "text = \"\"\"\n",
        "Spinal and bulbar muscular atrophy (SBMA) is an\n",
        "inherited motor neuron disease caused by the expansion\n",
        "of a polyglutamine tract within the androgen receptor (AR).\n",
        "SBMA can be caused by this easily.\n",
        "\"\"\"\n",
        "\n",
        "doc = nlp(text)"
      ],
      "execution_count": null,
      "outputs": []
    },
    {
      "cell_type": "code",
      "metadata": {
        "id": "CQx9w-Q-mZNc",
        "outputId": "28e61d93-8d31-47ee-f3d3-b9adf8ef78ea",
        "colab": {
          "base_uri": "https://localhost:8080/",
          "height": 363
        }
      },
      "source": [
        "get_wdt_items_from_umls_entities(doc)"
      ],
      "execution_count": null,
      "outputs": [
        {
          "output_type": "execute_result",
          "data": {
            "text/html": [
              "<div>\n",
              "<style scoped>\n",
              "    .dataframe tbody tr th:only-of-type {\n",
              "        vertical-align: middle;\n",
              "    }\n",
              "\n",
              "    .dataframe tbody tr th {\n",
              "        vertical-align: top;\n",
              "    }\n",
              "\n",
              "    .dataframe thead th {\n",
              "        text-align: right;\n",
              "    }\n",
              "</style>\n",
              "<table border=\"1\" class=\"dataframe\">\n",
              "  <thead>\n",
              "    <tr style=\"text-align: right;\">\n",
              "      <th></th>\n",
              "      <th>label</th>\n",
              "      <th>start_pos</th>\n",
              "      <th>end_pos</th>\n",
              "      <th>umls_id</th>\n",
              "      <th>qid</th>\n",
              "    </tr>\n",
              "  </thead>\n",
              "  <tbody>\n",
              "    <tr>\n",
              "      <th>0</th>\n",
              "      <td>Spinal</td>\n",
              "      <td>1</td>\n",
              "      <td>7</td>\n",
              "      <td>C0521329</td>\n",
              "      <td>None</td>\n",
              "    </tr>\n",
              "    <tr>\n",
              "      <th>1</th>\n",
              "      <td>bulbar muscular atrophy</td>\n",
              "      <td>12</td>\n",
              "      <td>35</td>\n",
              "      <td>C1839259</td>\n",
              "      <td>Q1995327</td>\n",
              "    </tr>\n",
              "    <tr>\n",
              "      <th>2</th>\n",
              "      <td>SBMA</td>\n",
              "      <td>37</td>\n",
              "      <td>41</td>\n",
              "      <td>C1839259</td>\n",
              "      <td>Q1995327</td>\n",
              "    </tr>\n",
              "    <tr>\n",
              "      <th>3</th>\n",
              "      <td>inherited</td>\n",
              "      <td>49</td>\n",
              "      <td>58</td>\n",
              "      <td>C0439660</td>\n",
              "      <td>None</td>\n",
              "    </tr>\n",
              "    <tr>\n",
              "      <th>4</th>\n",
              "      <td>motor neuron disease</td>\n",
              "      <td>59</td>\n",
              "      <td>79</td>\n",
              "      <td>C0085084</td>\n",
              "      <td>Q3221083</td>\n",
              "    </tr>\n",
              "    <tr>\n",
              "      <th>5</th>\n",
              "      <td>expansion</td>\n",
              "      <td>94</td>\n",
              "      <td>103</td>\n",
              "      <td>C0007595</td>\n",
              "      <td>None</td>\n",
              "    </tr>\n",
              "    <tr>\n",
              "      <th>6</th>\n",
              "      <td>polyglutamine tract</td>\n",
              "      <td>109</td>\n",
              "      <td>128</td>\n",
              "      <td>C0032500</td>\n",
              "      <td>None</td>\n",
              "    </tr>\n",
              "    <tr>\n",
              "      <th>7</th>\n",
              "      <td>androgen receptor</td>\n",
              "      <td>140</td>\n",
              "      <td>157</td>\n",
              "      <td>C0034786</td>\n",
              "      <td>None</td>\n",
              "    </tr>\n",
              "    <tr>\n",
              "      <th>8</th>\n",
              "      <td>AR</td>\n",
              "      <td>159</td>\n",
              "      <td>161</td>\n",
              "      <td>C0034786</td>\n",
              "      <td>None</td>\n",
              "    </tr>\n",
              "    <tr>\n",
              "      <th>9</th>\n",
              "      <td>SBMA</td>\n",
              "      <td>164</td>\n",
              "      <td>168</td>\n",
              "      <td>C1839259</td>\n",
              "      <td>Q1995327</td>\n",
              "    </tr>\n",
              "  </tbody>\n",
              "</table>\n",
              "</div>"
            ],
            "text/plain": [
              "                     label  start_pos  end_pos   umls_id       qid\n",
              "0                   Spinal          1        7  C0521329      None\n",
              "1  bulbar muscular atrophy         12       35  C1839259  Q1995327\n",
              "2                     SBMA         37       41  C1839259  Q1995327\n",
              "3                inherited         49       58  C0439660      None\n",
              "4     motor neuron disease         59       79  C0085084  Q3221083\n",
              "5                expansion         94      103  C0007595      None\n",
              "6      polyglutamine tract        109      128  C0032500      None\n",
              "7        androgen receptor        140      157  C0034786      None\n",
              "8                       AR        159      161  C0034786      None\n",
              "9                     SBMA        164      168  C1839259  Q1995327"
            ]
          },
          "metadata": {
            "tags": []
          },
          "execution_count": 8
        }
      ]
    }
  ]
}